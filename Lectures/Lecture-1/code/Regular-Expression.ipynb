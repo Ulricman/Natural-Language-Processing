{
 "cells": [
  {
   "cell_type": "code",
   "execution_count": null,
   "id": "8a4dacc2",
   "metadata": {},
   "outputs": [],
   "source": [
    "import re\n",
    "str1 = \"This string contains Woodchuck and woodchuck\"\n",
    "result = re.search(pattern=\"[wW]oodchuck\",string=str1)\n",
    "print(result)"
   ]
  },
  {
   "cell_type": "code",
   "execution_count": null,
   "id": "066f5187",
   "metadata": {},
   "outputs": [],
   "source": [
    "result = re.search(pattern=\"[wW]ooodchuck\",string=str1)\n",
    "print(result)"
   ]
  },
  {
   "cell_type": "code",
   "execution_count": null,
   "id": "da6742ba",
   "metadata": {},
   "outputs": [],
   "source": [
    "str1 = \"Look up a^b now\"\n",
    "result = re.search(pattern=\"a\\^b\",string=str1)\n",
    "print(result)"
   ]
  },
  {
   "cell_type": "code",
   "execution_count": null,
   "id": "12c5cd55",
   "metadata": {},
   "outputs": [],
   "source": [
    "str1 = \"Not an upper case letter\"\n",
    "result = re.search(pattern=\"[^A-Z]\",string=str1)\n",
    "print(result)"
   ]
  },
  {
   "cell_type": "code",
   "execution_count": null,
   "id": "90cb49e7",
   "metadata": {},
   "outputs": [],
   "source": [
    "str1 = \"Neither 'S' nor 's'\"\n",
    "result = re.search(pattern=\"[^Ss]\",string=str1)\n",
    "print(result)"
   ]
  },
  {
   "cell_type": "code",
   "execution_count": null,
   "id": "7e11e876",
   "metadata": {},
   "outputs": [],
   "source": [
    "str1 = \"e^*Neither e nor ^\"\n",
    "result = re.search(pattern=\"[^e^]\",string=str1)\n",
    "print(result)"
   ]
  },
  {
   "cell_type": "code",
   "execution_count": null,
   "id": "e400301d",
   "metadata": {},
   "outputs": [],
   "source": [
    "str1 = \"Woodchucks is another name for groundhog!\"\n",
    "result = re.search(pattern=\"groundhog|woodchuck\",string=str1)\n",
    "print(result)"
   ]
  },
  {
   "cell_type": "code",
   "execution_count": null,
   "id": "bebefb72",
   "metadata": {},
   "outputs": [],
   "source": [
    "str1 = \"Find all woodchuckk Woodchuck Groundhog groundhogxxx!\"\n",
    "result = re.findall(pattern=\"[gG]roundhog|[Ww]oodchuck\",string=str1)\n",
    "print(result)"
   ]
  },
  {
   "cell_type": "code",
   "execution_count": null,
   "id": "de4bc834",
   "metadata": {},
   "outputs": [],
   "source": [
    "str1 = \"Find all color colour colouur colouuur colouyr\"\n",
    "result = re.findall(pattern=\"colou?r\",string=str1)\n",
    "print(result)"
   ]
  },
  {
   "cell_type": "code",
   "execution_count": null,
   "id": "c75aa521",
   "metadata": {},
   "outputs": [],
   "source": [
    "str1 = \"Find all color colour colouur colouuur colouyr\"\n",
    "result = re.findall(pattern=\"colou*r\",string=str1)\n",
    "print(result)"
   ]
  },
  {
   "cell_type": "code",
   "execution_count": null,
   "id": "57beb422",
   "metadata": {},
   "outputs": [],
   "source": [
    "str1 = \"The end.\"\n",
    "result = re.findall(pattern=\"\\.$\",string=str1)\n",
    "print(result)"
   ]
  },
  {
   "cell_type": "code",
   "execution_count": null,
   "id": "2268408a",
   "metadata": {},
   "outputs": [],
   "source": [
    "str1 = \"The end? The end. #t\"\n",
    "result = re.findall(pattern=\".$\",string=str1)\n",
    "print(result)"
   ]
  },
  {
   "cell_type": "code",
   "execution_count": null,
   "id": "d98586b3",
   "metadata": {},
   "outputs": [],
   "source": [
    "text = \"If two sequences in an alignment share a common ancestor, mismatches can be interpreted as point mutations and gaps as indels (that is, insertion or deletion mutations) introduced in one or both lineages in the time since they diverged from one another. In sequence alignments of proteins, the degree of similarity between amino acids occupying a particular position in the sequence can be interpreted as a rough measure of how conserved a particular region or sequence motif is among lineages. The absence of substitutions, or the presence of only very conservative substitutions (that is, the substitution of amino acids whose side chains have similar biochemical properties) in a particular region of the sequence, suggest [3] that this region has structural or functional importance. Although DNA and RNA nucleotide bases are more similar to each other than are amino acids, the conservation of base pairs can indicate a similar functional or structural role.\""
   ]
  },
  {
   "cell_type": "code",
   "execution_count": null,
   "id": "2ecbfe5e",
   "metadata": {},
   "outputs": [],
   "source": [
    "result = re.findall(pattern=\"[^a-zA-Z][tT]he[^a-zA-Z]\",string=text)\n",
    "print(result)"
   ]
  }
 ],
 "metadata": {
  "kernelspec": {
   "display_name": "Python 3 (ipykernel)",
   "language": "python",
   "name": "python3"
  },
  "language_info": {
   "codemirror_mode": {
    "name": "ipython",
    "version": 3
   },
   "file_extension": ".py",
   "mimetype": "text/x-python",
   "name": "python",
   "nbconvert_exporter": "python",
   "pygments_lexer": "ipython3",
   "version": "3.10.9"
  }
 },
 "nbformat": 4,
 "nbformat_minor": 5
}
