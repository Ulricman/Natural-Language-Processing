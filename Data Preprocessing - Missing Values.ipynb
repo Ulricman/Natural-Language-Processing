{
 "cells": [
  {
   "cell_type": "markdown",
   "metadata": {},
   "source": [
    "# Preprocessing missing values using pandas\n",
    "This tutorial explains how to preprocess missing values using the pandas library. \n",
    "\n",
    "In this tutorial we will use the dataset related to Hepatitis, which can be downloaded from [this link](https://datahub.io/machine-learning/hepatitis#pandas).\n",
    "\n",
    "## Import data\n",
    "Firstly, import data using the pandas library and convert them into a dataframe. Through the `head(10)` method we print only the first 10 rows of the dataset"
   ]
  },
  {
   "cell_type": "code",
   "execution_count": 12,
   "metadata": {},
   "outputs": [
    {
     "data": {
      "text/plain": "   age     sex steroid  antivirals fatigue malaise anorexia liver_big  \\\n0   30    male   False       False   False   False    False     False   \n1   50  female   False       False    True   False    False     False   \n2   78  female    True       False    True   False    False      True   \n3   31  female     NaN        True   False   False    False      True   \n4   34  female    True       False   False   False    False      True   \n5   34  female    True       False   False   False    False      True   \n6   51  female   False       False    True   False     True      True   \n7   23  female    True       False   False   False    False      True   \n8   39  female    True       False    True   False    False      True   \n9   30  female    True       False   False   False    False      True   \n\n  liver_firm spleen_palpable spiders ascites varices  bilirubin  \\\n0      False           False   False   False   False        1.0   \n1      False           False   False   False   False        0.9   \n2      False           False   False   False   False        0.7   \n3      False           False   False   False   False        0.7   \n4      False           False   False   False   False        1.0   \n5      False           False   False   False   False        0.9   \n6      False            True    True   False   False        NaN   \n7      False           False   False   False   False        1.0   \n8       True           False   False   False   False        0.7   \n9      False           False   False   False   False        1.0   \n\n   alk_phosphate   sgot  albumin  protime  histology class  \n0           85.0   18.0      4.0      NaN      False  live  \n1          135.0   42.0      3.5      NaN      False  live  \n2           96.0   32.0      4.0      NaN      False  live  \n3           46.0   52.0      4.0     80.0      False  live  \n4            NaN  200.0      4.0      NaN      False  live  \n5           95.0   28.0      4.0     75.0      False  live  \n6            NaN    NaN      NaN      NaN      False   die  \n7            NaN    NaN      NaN      NaN      False  live  \n8            NaN   48.0      4.4      NaN      False  live  \n9            NaN  120.0      3.9      NaN      False  live  ",
      "text/html": "<div>\n<style scoped>\n    .dataframe tbody tr th:only-of-type {\n        vertical-align: middle;\n    }\n\n    .dataframe tbody tr th {\n        vertical-align: top;\n    }\n\n    .dataframe thead th {\n        text-align: right;\n    }\n</style>\n<table border=\"1\" class=\"dataframe\">\n  <thead>\n    <tr style=\"text-align: right;\">\n      <th></th>\n      <th>age</th>\n      <th>sex</th>\n      <th>steroid</th>\n      <th>antivirals</th>\n      <th>fatigue</th>\n      <th>malaise</th>\n      <th>anorexia</th>\n      <th>liver_big</th>\n      <th>liver_firm</th>\n      <th>spleen_palpable</th>\n      <th>spiders</th>\n      <th>ascites</th>\n      <th>varices</th>\n      <th>bilirubin</th>\n      <th>alk_phosphate</th>\n      <th>sgot</th>\n      <th>albumin</th>\n      <th>protime</th>\n      <th>histology</th>\n      <th>class</th>\n    </tr>\n  </thead>\n  <tbody>\n    <tr>\n      <th>0</th>\n      <td>30</td>\n      <td>male</td>\n      <td>False</td>\n      <td>False</td>\n      <td>False</td>\n      <td>False</td>\n      <td>False</td>\n      <td>False</td>\n      <td>False</td>\n      <td>False</td>\n      <td>False</td>\n      <td>False</td>\n      <td>False</td>\n      <td>1.0</td>\n      <td>85.0</td>\n      <td>18.0</td>\n      <td>4.0</td>\n      <td>NaN</td>\n      <td>False</td>\n      <td>live</td>\n    </tr>\n    <tr>\n      <th>1</th>\n      <td>50</td>\n      <td>female</td>\n      <td>False</td>\n      <td>False</td>\n      <td>True</td>\n      <td>False</td>\n      <td>False</td>\n      <td>False</td>\n      <td>False</td>\n      <td>False</td>\n      <td>False</td>\n      <td>False</td>\n      <td>False</td>\n      <td>0.9</td>\n      <td>135.0</td>\n      <td>42.0</td>\n      <td>3.5</td>\n      <td>NaN</td>\n      <td>False</td>\n      <td>live</td>\n    </tr>\n    <tr>\n      <th>2</th>\n      <td>78</td>\n      <td>female</td>\n      <td>True</td>\n      <td>False</td>\n      <td>True</td>\n      <td>False</td>\n      <td>False</td>\n      <td>True</td>\n      <td>False</td>\n      <td>False</td>\n      <td>False</td>\n      <td>False</td>\n      <td>False</td>\n      <td>0.7</td>\n      <td>96.0</td>\n      <td>32.0</td>\n      <td>4.0</td>\n      <td>NaN</td>\n      <td>False</td>\n      <td>live</td>\n    </tr>\n    <tr>\n      <th>3</th>\n      <td>31</td>\n      <td>female</td>\n      <td>NaN</td>\n      <td>True</td>\n      <td>False</td>\n      <td>False</td>\n      <td>False</td>\n      <td>True</td>\n      <td>False</td>\n      <td>False</td>\n      <td>False</td>\n      <td>False</td>\n      <td>False</td>\n      <td>0.7</td>\n      <td>46.0</td>\n      <td>52.0</td>\n      <td>4.0</td>\n      <td>80.0</td>\n      <td>False</td>\n      <td>live</td>\n    </tr>\n    <tr>\n      <th>4</th>\n      <td>34</td>\n      <td>female</td>\n      <td>True</td>\n      <td>False</td>\n      <td>False</td>\n      <td>False</td>\n      <td>False</td>\n      <td>True</td>\n      <td>False</td>\n      <td>False</td>\n      <td>False</td>\n      <td>False</td>\n      <td>False</td>\n      <td>1.0</td>\n      <td>NaN</td>\n      <td>200.0</td>\n      <td>4.0</td>\n      <td>NaN</td>\n      <td>False</td>\n      <td>live</td>\n    </tr>\n    <tr>\n      <th>5</th>\n      <td>34</td>\n      <td>female</td>\n      <td>True</td>\n      <td>False</td>\n      <td>False</td>\n      <td>False</td>\n      <td>False</td>\n      <td>True</td>\n      <td>False</td>\n      <td>False</td>\n      <td>False</td>\n      <td>False</td>\n      <td>False</td>\n      <td>0.9</td>\n      <td>95.0</td>\n      <td>28.0</td>\n      <td>4.0</td>\n      <td>75.0</td>\n      <td>False</td>\n      <td>live</td>\n    </tr>\n    <tr>\n      <th>6</th>\n      <td>51</td>\n      <td>female</td>\n      <td>False</td>\n      <td>False</td>\n      <td>True</td>\n      <td>False</td>\n      <td>True</td>\n      <td>True</td>\n      <td>False</td>\n      <td>True</td>\n      <td>True</td>\n      <td>False</td>\n      <td>False</td>\n      <td>NaN</td>\n      <td>NaN</td>\n      <td>NaN</td>\n      <td>NaN</td>\n      <td>NaN</td>\n      <td>False</td>\n      <td>die</td>\n    </tr>\n    <tr>\n      <th>7</th>\n      <td>23</td>\n      <td>female</td>\n      <td>True</td>\n      <td>False</td>\n      <td>False</td>\n      <td>False</td>\n      <td>False</td>\n      <td>True</td>\n      <td>False</td>\n      <td>False</td>\n      <td>False</td>\n      <td>False</td>\n      <td>False</td>\n      <td>1.0</td>\n      <td>NaN</td>\n      <td>NaN</td>\n      <td>NaN</td>\n      <td>NaN</td>\n      <td>False</td>\n      <td>live</td>\n    </tr>\n    <tr>\n      <th>8</th>\n      <td>39</td>\n      <td>female</td>\n      <td>True</td>\n      <td>False</td>\n      <td>True</td>\n      <td>False</td>\n      <td>False</td>\n      <td>True</td>\n      <td>True</td>\n      <td>False</td>\n      <td>False</td>\n      <td>False</td>\n      <td>False</td>\n      <td>0.7</td>\n      <td>NaN</td>\n      <td>48.0</td>\n      <td>4.4</td>\n      <td>NaN</td>\n      <td>False</td>\n      <td>live</td>\n    </tr>\n    <tr>\n      <th>9</th>\n      <td>30</td>\n      <td>female</td>\n      <td>True</td>\n      <td>False</td>\n      <td>False</td>\n      <td>False</td>\n      <td>False</td>\n      <td>True</td>\n      <td>False</td>\n      <td>False</td>\n      <td>False</td>\n      <td>False</td>\n      <td>False</td>\n      <td>1.0</td>\n      <td>NaN</td>\n      <td>120.0</td>\n      <td>3.9</td>\n      <td>NaN</td>\n      <td>False</td>\n      <td>live</td>\n    </tr>\n  </tbody>\n</table>\n</div>"
     },
     "execution_count": 12,
     "metadata": {},
     "output_type": "execute_result"
    }
   ],
   "source": [
    "import pandas as pd\n",
    "\n",
    "data = pd.read_csv('hepatitis.csv')\n",
    "data.head(10)"
   ]
  },
  {
   "cell_type": "markdown",
   "metadata": {},
   "source": [
    "## Identify missing values\n",
    "We note that the dataset presents some problems. For example, the column value is not available for all the rows. In some cases it presents the `NaN` value, which means that the value is missing. \n",
    "\n",
    "In order to check whether our dataset contains missing values, we can use the function `isna()`, which returns if an cell of the dataset is `NaN` or not. Then we can count how many missing values there are for each column."
   ]
  },
  {
   "cell_type": "code",
   "execution_count": 13,
   "metadata": {},
   "outputs": [
    {
     "data": {
      "text/plain": "age                 0\nsex                 0\nsteroid             1\nantivirals          0\nfatigue             1\nmalaise             1\nanorexia            1\nliver_big          10\nliver_firm         11\nspleen_palpable     5\nspiders             5\nascites             5\nvarices             5\nbilirubin           6\nalk_phosphate      29\nsgot                4\nalbumin            16\nprotime            67\nhistology           0\nclass               0\ndtype: int64"
     },
     "execution_count": 13,
     "metadata": {},
     "output_type": "execute_result"
    }
   ],
   "source": [
    "num_nan = data.isna().sum()\n",
    "num_nan"
   ]
  },
  {
   "cell_type": "markdown",
   "metadata": {},
   "source": [
    "Now we can count the percentage of missing values for each column, simply by dividing the previous result by the length of the dataset (`len(df)`) and multiplying per 100."
   ]
  },
  {
   "cell_type": "code",
   "execution_count": 14,
   "metadata": {},
   "outputs": [
    {
     "data": {
      "text/plain": "age                 0.000000\nsex                 0.000000\nsteroid             0.645161\nantivirals          0.000000\nfatigue             0.645161\nmalaise             0.645161\nanorexia            0.645161\nliver_big           6.451613\nliver_firm          7.096774\nspleen_palpable     3.225806\nspiders             3.225806\nascites             3.225806\nvarices             3.225806\nbilirubin           3.870968\nalk_phosphate      18.709677\nsgot                2.580645\nalbumin            10.322581\nprotime            43.225806\nhistology           0.000000\nclass               0.000000\ndtype: float64"
     },
     "execution_count": 14,
     "metadata": {},
     "output_type": "execute_result"
    }
   ],
   "source": [
    "num_nan / len(data) * 100"
   ]
  },
  {
   "cell_type": "markdown",
   "metadata": {},
   "source": [
    "When dealing with missing values, different alternatives can be applied:\n",
    "* check the source, for example by contacting the data source to correct the missing values\n",
    "* drop missing values\n",
    "* replace the missing value with a value\n",
    "* leave the missing value as it is.\n"
   ]
  },
  {
   "cell_type": "markdown",
   "metadata": {},
   "source": [
    "## Drop missing values\n",
    "Dropping missing values can be one of the following alternatives:\n",
    "* remove rows having missing values\n",
    "* remove the whole column containing missing values\n",
    "\n",
    "We can use the `dropna()` by specifying the `axis` to be considered. If we set `axis = 0` we drop the entire row, if we set `axis = 1` we drop the whole column. If we apply the function `df.dropna(axis=0)` 80 rows of the dataset remain. If we apply the function `df.dropna(axis=1)`, only the columns age, sex, antivirals, histology and class remain. However, removed values are not applied to the original dataframe, but only to the result. We can use the argument `inplace=True` in order to store changes in the original dataframe `df` (`df.dropna(axis=1,inplace=True)`)."
   ]
  },
  {
   "cell_type": "code",
   "execution_count": 16,
   "metadata": {},
   "outputs": [
    {
     "data": {
      "text/plain": "     age     sex steroid  antivirals fatigue malaise anorexia liver_big  \\\n5     34  female    True       False   False   False    False      True   \n10    39  female   False        True   False   False    False     False   \n11    32  female    True        True    True   False    False      True   \n12    41  female    True        True    True   False    False      True   \n13    30  female    True       False    True   False    False      True   \n..   ...     ...     ...         ...     ...     ...      ...       ...   \n139   45  female    True        True   False   False    False      True   \n143   49  female   False       False    True    True    False      True   \n145   31  female   False       False    True   False    False      True   \n153   53    male   False       False    True   False    False      True   \n154   43  female    True       False    True   False    False      True   \n\n    liver_firm spleen_palpable spiders ascites varices  bilirubin  \\\n5        False           False   False   False   False        0.9   \n10        True           False   False   False   False        1.3   \n11        True           False    True   False   False        1.0   \n12        True           False   False   False   False        0.9   \n13        True           False   False   False   False        2.2   \n..         ...             ...     ...     ...     ...        ...   \n139      False           False   False   False   False        1.3   \n143      False            True    True   False   False        1.4   \n145      False           False   False   False   False        1.2   \n153      False            True    True   False    True        1.5   \n154      False            True    True    True   False        1.2   \n\n     alk_phosphate   sgot  albumin  protime  histology class  \n5             95.0   28.0      4.0     75.0      False  live  \n10            78.0   30.0      4.4     85.0      False  live  \n11            59.0  249.0      3.7     54.0      False  live  \n12            81.0   60.0      3.9     52.0      False  live  \n13            57.0  144.0      4.9     78.0      False  live  \n..             ...    ...      ...      ...        ...   ...  \n139           85.0   44.0      4.2     85.0       True  live  \n143           85.0   70.0      3.5     35.0       True   die  \n145           75.0  173.0      4.2     54.0       True  live  \n153           81.0   19.0      4.1     48.0       True  live  \n154          100.0   19.0      3.1     42.0       True   die  \n\n[80 rows x 20 columns]",
      "text/html": "<div>\n<style scoped>\n    .dataframe tbody tr th:only-of-type {\n        vertical-align: middle;\n    }\n\n    .dataframe tbody tr th {\n        vertical-align: top;\n    }\n\n    .dataframe thead th {\n        text-align: right;\n    }\n</style>\n<table border=\"1\" class=\"dataframe\">\n  <thead>\n    <tr style=\"text-align: right;\">\n      <th></th>\n      <th>age</th>\n      <th>sex</th>\n      <th>steroid</th>\n      <th>antivirals</th>\n      <th>fatigue</th>\n      <th>malaise</th>\n      <th>anorexia</th>\n      <th>liver_big</th>\n      <th>liver_firm</th>\n      <th>spleen_palpable</th>\n      <th>spiders</th>\n      <th>ascites</th>\n      <th>varices</th>\n      <th>bilirubin</th>\n      <th>alk_phosphate</th>\n      <th>sgot</th>\n      <th>albumin</th>\n      <th>protime</th>\n      <th>histology</th>\n      <th>class</th>\n    </tr>\n  </thead>\n  <tbody>\n    <tr>\n      <th>5</th>\n      <td>34</td>\n      <td>female</td>\n      <td>True</td>\n      <td>False</td>\n      <td>False</td>\n      <td>False</td>\n      <td>False</td>\n      <td>True</td>\n      <td>False</td>\n      <td>False</td>\n      <td>False</td>\n      <td>False</td>\n      <td>False</td>\n      <td>0.9</td>\n      <td>95.0</td>\n      <td>28.0</td>\n      <td>4.0</td>\n      <td>75.0</td>\n      <td>False</td>\n      <td>live</td>\n    </tr>\n    <tr>\n      <th>10</th>\n      <td>39</td>\n      <td>female</td>\n      <td>False</td>\n      <td>True</td>\n      <td>False</td>\n      <td>False</td>\n      <td>False</td>\n      <td>False</td>\n      <td>True</td>\n      <td>False</td>\n      <td>False</td>\n      <td>False</td>\n      <td>False</td>\n      <td>1.3</td>\n      <td>78.0</td>\n      <td>30.0</td>\n      <td>4.4</td>\n      <td>85.0</td>\n      <td>False</td>\n      <td>live</td>\n    </tr>\n    <tr>\n      <th>11</th>\n      <td>32</td>\n      <td>female</td>\n      <td>True</td>\n      <td>True</td>\n      <td>True</td>\n      <td>False</td>\n      <td>False</td>\n      <td>True</td>\n      <td>True</td>\n      <td>False</td>\n      <td>True</td>\n      <td>False</td>\n      <td>False</td>\n      <td>1.0</td>\n      <td>59.0</td>\n      <td>249.0</td>\n      <td>3.7</td>\n      <td>54.0</td>\n      <td>False</td>\n      <td>live</td>\n    </tr>\n    <tr>\n      <th>12</th>\n      <td>41</td>\n      <td>female</td>\n      <td>True</td>\n      <td>True</td>\n      <td>True</td>\n      <td>False</td>\n      <td>False</td>\n      <td>True</td>\n      <td>True</td>\n      <td>False</td>\n      <td>False</td>\n      <td>False</td>\n      <td>False</td>\n      <td>0.9</td>\n      <td>81.0</td>\n      <td>60.0</td>\n      <td>3.9</td>\n      <td>52.0</td>\n      <td>False</td>\n      <td>live</td>\n    </tr>\n    <tr>\n      <th>13</th>\n      <td>30</td>\n      <td>female</td>\n      <td>True</td>\n      <td>False</td>\n      <td>True</td>\n      <td>False</td>\n      <td>False</td>\n      <td>True</td>\n      <td>True</td>\n      <td>False</td>\n      <td>False</td>\n      <td>False</td>\n      <td>False</td>\n      <td>2.2</td>\n      <td>57.0</td>\n      <td>144.0</td>\n      <td>4.9</td>\n      <td>78.0</td>\n      <td>False</td>\n      <td>live</td>\n    </tr>\n    <tr>\n      <th>...</th>\n      <td>...</td>\n      <td>...</td>\n      <td>...</td>\n      <td>...</td>\n      <td>...</td>\n      <td>...</td>\n      <td>...</td>\n      <td>...</td>\n      <td>...</td>\n      <td>...</td>\n      <td>...</td>\n      <td>...</td>\n      <td>...</td>\n      <td>...</td>\n      <td>...</td>\n      <td>...</td>\n      <td>...</td>\n      <td>...</td>\n      <td>...</td>\n      <td>...</td>\n    </tr>\n    <tr>\n      <th>139</th>\n      <td>45</td>\n      <td>female</td>\n      <td>True</td>\n      <td>True</td>\n      <td>False</td>\n      <td>False</td>\n      <td>False</td>\n      <td>True</td>\n      <td>False</td>\n      <td>False</td>\n      <td>False</td>\n      <td>False</td>\n      <td>False</td>\n      <td>1.3</td>\n      <td>85.0</td>\n      <td>44.0</td>\n      <td>4.2</td>\n      <td>85.0</td>\n      <td>True</td>\n      <td>live</td>\n    </tr>\n    <tr>\n      <th>143</th>\n      <td>49</td>\n      <td>female</td>\n      <td>False</td>\n      <td>False</td>\n      <td>True</td>\n      <td>True</td>\n      <td>False</td>\n      <td>True</td>\n      <td>False</td>\n      <td>True</td>\n      <td>True</td>\n      <td>False</td>\n      <td>False</td>\n      <td>1.4</td>\n      <td>85.0</td>\n      <td>70.0</td>\n      <td>3.5</td>\n      <td>35.0</td>\n      <td>True</td>\n      <td>die</td>\n    </tr>\n    <tr>\n      <th>145</th>\n      <td>31</td>\n      <td>female</td>\n      <td>False</td>\n      <td>False</td>\n      <td>True</td>\n      <td>False</td>\n      <td>False</td>\n      <td>True</td>\n      <td>False</td>\n      <td>False</td>\n      <td>False</td>\n      <td>False</td>\n      <td>False</td>\n      <td>1.2</td>\n      <td>75.0</td>\n      <td>173.0</td>\n      <td>4.2</td>\n      <td>54.0</td>\n      <td>True</td>\n      <td>live</td>\n    </tr>\n    <tr>\n      <th>153</th>\n      <td>53</td>\n      <td>male</td>\n      <td>False</td>\n      <td>False</td>\n      <td>True</td>\n      <td>False</td>\n      <td>False</td>\n      <td>True</td>\n      <td>False</td>\n      <td>True</td>\n      <td>True</td>\n      <td>False</td>\n      <td>True</td>\n      <td>1.5</td>\n      <td>81.0</td>\n      <td>19.0</td>\n      <td>4.1</td>\n      <td>48.0</td>\n      <td>True</td>\n      <td>live</td>\n    </tr>\n    <tr>\n      <th>154</th>\n      <td>43</td>\n      <td>female</td>\n      <td>True</td>\n      <td>False</td>\n      <td>True</td>\n      <td>False</td>\n      <td>False</td>\n      <td>True</td>\n      <td>False</td>\n      <td>True</td>\n      <td>True</td>\n      <td>True</td>\n      <td>False</td>\n      <td>1.2</td>\n      <td>100.0</td>\n      <td>19.0</td>\n      <td>3.1</td>\n      <td>42.0</td>\n      <td>True</td>\n      <td>die</td>\n    </tr>\n  </tbody>\n</table>\n<p>80 rows × 20 columns</p>\n</div>"
     },
     "metadata": {},
     "output_type": "display_data"
    },
    {
     "data": {
      "text/plain": "     age     sex  antivirals  histology class\n0     30    male       False      False  live\n1     50  female       False      False  live\n2     78  female       False      False  live\n3     31  female        True      False  live\n4     34  female       False      False  live\n..   ...     ...         ...        ...   ...\n150   46  female       False       True   die\n151   44  female       False       True  live\n152   61  female       False       True  live\n153   53    male       False       True  live\n154   43  female       False       True   die\n\n[155 rows x 5 columns]",
      "text/html": "<div>\n<style scoped>\n    .dataframe tbody tr th:only-of-type {\n        vertical-align: middle;\n    }\n\n    .dataframe tbody tr th {\n        vertical-align: top;\n    }\n\n    .dataframe thead th {\n        text-align: right;\n    }\n</style>\n<table border=\"1\" class=\"dataframe\">\n  <thead>\n    <tr style=\"text-align: right;\">\n      <th></th>\n      <th>age</th>\n      <th>sex</th>\n      <th>antivirals</th>\n      <th>histology</th>\n      <th>class</th>\n    </tr>\n  </thead>\n  <tbody>\n    <tr>\n      <th>0</th>\n      <td>30</td>\n      <td>male</td>\n      <td>False</td>\n      <td>False</td>\n      <td>live</td>\n    </tr>\n    <tr>\n      <th>1</th>\n      <td>50</td>\n      <td>female</td>\n      <td>False</td>\n      <td>False</td>\n      <td>live</td>\n    </tr>\n    <tr>\n      <th>2</th>\n      <td>78</td>\n      <td>female</td>\n      <td>False</td>\n      <td>False</td>\n      <td>live</td>\n    </tr>\n    <tr>\n      <th>3</th>\n      <td>31</td>\n      <td>female</td>\n      <td>True</td>\n      <td>False</td>\n      <td>live</td>\n    </tr>\n    <tr>\n      <th>4</th>\n      <td>34</td>\n      <td>female</td>\n      <td>False</td>\n      <td>False</td>\n      <td>live</td>\n    </tr>\n    <tr>\n      <th>...</th>\n      <td>...</td>\n      <td>...</td>\n      <td>...</td>\n      <td>...</td>\n      <td>...</td>\n    </tr>\n    <tr>\n      <th>150</th>\n      <td>46</td>\n      <td>female</td>\n      <td>False</td>\n      <td>True</td>\n      <td>die</td>\n    </tr>\n    <tr>\n      <th>151</th>\n      <td>44</td>\n      <td>female</td>\n      <td>False</td>\n      <td>True</td>\n      <td>live</td>\n    </tr>\n    <tr>\n      <th>152</th>\n      <td>61</td>\n      <td>female</td>\n      <td>False</td>\n      <td>True</td>\n      <td>live</td>\n    </tr>\n    <tr>\n      <th>153</th>\n      <td>53</td>\n      <td>male</td>\n      <td>False</td>\n      <td>True</td>\n      <td>live</td>\n    </tr>\n    <tr>\n      <th>154</th>\n      <td>43</td>\n      <td>female</td>\n      <td>False</td>\n      <td>True</td>\n      <td>die</td>\n    </tr>\n  </tbody>\n</table>\n<p>155 rows × 5 columns</p>\n</div>"
     },
     "metadata": {},
     "output_type": "display_data"
    }
   ],
   "source": [
    "data_1 = data.dropna(axis=0)\n",
    "display(data_1)\n",
    "data_2 = data.dropna(axis=1)\n",
    "display(data_2)"
   ]
  },
  {
   "cell_type": "markdown",
   "metadata": {},
   "source": [
    "As an alternative, we can specify only the column on which the dropping operation must be applied. In the following example, only missing rows related to the column `liver_big` are considered. This can be achieved through the `subset` parameter, which permits to specify the subset of columns where to apply the dropping operation.\n"
   ]
  },
  {
   "cell_type": "code",
   "execution_count": 34,
   "metadata": {},
   "outputs": [
    {
     "data": {
      "text/plain": "     age     sex steroid  antivirals fatigue malaise anorexia liver_big  \\\n0     30    male   False       False   False   False    False     False   \n1     50  female   False       False    True   False    False     False   \n2     78  female    True       False    True   False    False      True   \n3     31  female     NaN        True   False   False    False      True   \n4     34  female    True       False   False   False    False      True   \n..   ...     ...     ...         ...     ...     ...      ...       ...   \n150   46  female    True       False    True    True     True      True   \n151   44  female    True       False    True   False    False      True   \n152   61  female   False       False    True    True    False     False   \n153   53    male   False       False    True   False    False      True   \n154   43  female    True       False    True   False    False      True   \n\n    liver_firm spleen_palpable spiders ascites varices  bilirubin  \\\n0        False           False   False   False   False        1.0   \n1        False           False   False   False   False        0.9   \n2        False           False   False   False   False        0.7   \n3        False           False   False   False   False        0.7   \n4        False           False   False   False   False        1.0   \n..         ...             ...     ...     ...     ...        ...   \n150      False           False    True    True    True        7.6   \n151       True           False   False   False   False        0.9   \n152       True           False    True   False   False        0.8   \n153      False            True    True   False    True        1.5   \n154      False            True    True    True   False        1.2   \n\n     alk_phosphate   sgot  albumin  protime  histology class  \n0             85.0   18.0      4.0      NaN      False  live  \n1            135.0   42.0      3.5      NaN      False  live  \n2             96.0   32.0      4.0      NaN      False  live  \n3             46.0   52.0      4.0     80.0      False  live  \n4              NaN  200.0      4.0      NaN      False  live  \n..             ...    ...      ...      ...        ...   ...  \n150            NaN  242.0      3.3     50.0       True   die  \n151          126.0  142.0      4.3      NaN       True  live  \n152           75.0   20.0      4.1      NaN       True  live  \n153           81.0   19.0      4.1     48.0       True  live  \n154          100.0   19.0      3.1     42.0       True   die  \n\n[145 rows x 20 columns]",
      "text/html": "<div>\n<style scoped>\n    .dataframe tbody tr th:only-of-type {\n        vertical-align: middle;\n    }\n\n    .dataframe tbody tr th {\n        vertical-align: top;\n    }\n\n    .dataframe thead th {\n        text-align: right;\n    }\n</style>\n<table border=\"1\" class=\"dataframe\">\n  <thead>\n    <tr style=\"text-align: right;\">\n      <th></th>\n      <th>age</th>\n      <th>sex</th>\n      <th>steroid</th>\n      <th>antivirals</th>\n      <th>fatigue</th>\n      <th>malaise</th>\n      <th>anorexia</th>\n      <th>liver_big</th>\n      <th>liver_firm</th>\n      <th>spleen_palpable</th>\n      <th>spiders</th>\n      <th>ascites</th>\n      <th>varices</th>\n      <th>bilirubin</th>\n      <th>alk_phosphate</th>\n      <th>sgot</th>\n      <th>albumin</th>\n      <th>protime</th>\n      <th>histology</th>\n      <th>class</th>\n    </tr>\n  </thead>\n  <tbody>\n    <tr>\n      <th>0</th>\n      <td>30</td>\n      <td>male</td>\n      <td>False</td>\n      <td>False</td>\n      <td>False</td>\n      <td>False</td>\n      <td>False</td>\n      <td>False</td>\n      <td>False</td>\n      <td>False</td>\n      <td>False</td>\n      <td>False</td>\n      <td>False</td>\n      <td>1.0</td>\n      <td>85.0</td>\n      <td>18.0</td>\n      <td>4.0</td>\n      <td>NaN</td>\n      <td>False</td>\n      <td>live</td>\n    </tr>\n    <tr>\n      <th>1</th>\n      <td>50</td>\n      <td>female</td>\n      <td>False</td>\n      <td>False</td>\n      <td>True</td>\n      <td>False</td>\n      <td>False</td>\n      <td>False</td>\n      <td>False</td>\n      <td>False</td>\n      <td>False</td>\n      <td>False</td>\n      <td>False</td>\n      <td>0.9</td>\n      <td>135.0</td>\n      <td>42.0</td>\n      <td>3.5</td>\n      <td>NaN</td>\n      <td>False</td>\n      <td>live</td>\n    </tr>\n    <tr>\n      <th>2</th>\n      <td>78</td>\n      <td>female</td>\n      <td>True</td>\n      <td>False</td>\n      <td>True</td>\n      <td>False</td>\n      <td>False</td>\n      <td>True</td>\n      <td>False</td>\n      <td>False</td>\n      <td>False</td>\n      <td>False</td>\n      <td>False</td>\n      <td>0.7</td>\n      <td>96.0</td>\n      <td>32.0</td>\n      <td>4.0</td>\n      <td>NaN</td>\n      <td>False</td>\n      <td>live</td>\n    </tr>\n    <tr>\n      <th>3</th>\n      <td>31</td>\n      <td>female</td>\n      <td>NaN</td>\n      <td>True</td>\n      <td>False</td>\n      <td>False</td>\n      <td>False</td>\n      <td>True</td>\n      <td>False</td>\n      <td>False</td>\n      <td>False</td>\n      <td>False</td>\n      <td>False</td>\n      <td>0.7</td>\n      <td>46.0</td>\n      <td>52.0</td>\n      <td>4.0</td>\n      <td>80.0</td>\n      <td>False</td>\n      <td>live</td>\n    </tr>\n    <tr>\n      <th>4</th>\n      <td>34</td>\n      <td>female</td>\n      <td>True</td>\n      <td>False</td>\n      <td>False</td>\n      <td>False</td>\n      <td>False</td>\n      <td>True</td>\n      <td>False</td>\n      <td>False</td>\n      <td>False</td>\n      <td>False</td>\n      <td>False</td>\n      <td>1.0</td>\n      <td>NaN</td>\n      <td>200.0</td>\n      <td>4.0</td>\n      <td>NaN</td>\n      <td>False</td>\n      <td>live</td>\n    </tr>\n    <tr>\n      <th>...</th>\n      <td>...</td>\n      <td>...</td>\n      <td>...</td>\n      <td>...</td>\n      <td>...</td>\n      <td>...</td>\n      <td>...</td>\n      <td>...</td>\n      <td>...</td>\n      <td>...</td>\n      <td>...</td>\n      <td>...</td>\n      <td>...</td>\n      <td>...</td>\n      <td>...</td>\n      <td>...</td>\n      <td>...</td>\n      <td>...</td>\n      <td>...</td>\n      <td>...</td>\n    </tr>\n    <tr>\n      <th>150</th>\n      <td>46</td>\n      <td>female</td>\n      <td>True</td>\n      <td>False</td>\n      <td>True</td>\n      <td>True</td>\n      <td>True</td>\n      <td>True</td>\n      <td>False</td>\n      <td>False</td>\n      <td>True</td>\n      <td>True</td>\n      <td>True</td>\n      <td>7.6</td>\n      <td>NaN</td>\n      <td>242.0</td>\n      <td>3.3</td>\n      <td>50.0</td>\n      <td>True</td>\n      <td>die</td>\n    </tr>\n    <tr>\n      <th>151</th>\n      <td>44</td>\n      <td>female</td>\n      <td>True</td>\n      <td>False</td>\n      <td>True</td>\n      <td>False</td>\n      <td>False</td>\n      <td>True</td>\n      <td>True</td>\n      <td>False</td>\n      <td>False</td>\n      <td>False</td>\n      <td>False</td>\n      <td>0.9</td>\n      <td>126.0</td>\n      <td>142.0</td>\n      <td>4.3</td>\n      <td>NaN</td>\n      <td>True</td>\n      <td>live</td>\n    </tr>\n    <tr>\n      <th>152</th>\n      <td>61</td>\n      <td>female</td>\n      <td>False</td>\n      <td>False</td>\n      <td>True</td>\n      <td>True</td>\n      <td>False</td>\n      <td>False</td>\n      <td>True</td>\n      <td>False</td>\n      <td>True</td>\n      <td>False</td>\n      <td>False</td>\n      <td>0.8</td>\n      <td>75.0</td>\n      <td>20.0</td>\n      <td>4.1</td>\n      <td>NaN</td>\n      <td>True</td>\n      <td>live</td>\n    </tr>\n    <tr>\n      <th>153</th>\n      <td>53</td>\n      <td>male</td>\n      <td>False</td>\n      <td>False</td>\n      <td>True</td>\n      <td>False</td>\n      <td>False</td>\n      <td>True</td>\n      <td>False</td>\n      <td>True</td>\n      <td>True</td>\n      <td>False</td>\n      <td>True</td>\n      <td>1.5</td>\n      <td>81.0</td>\n      <td>19.0</td>\n      <td>4.1</td>\n      <td>48.0</td>\n      <td>True</td>\n      <td>live</td>\n    </tr>\n    <tr>\n      <th>154</th>\n      <td>43</td>\n      <td>female</td>\n      <td>True</td>\n      <td>False</td>\n      <td>True</td>\n      <td>False</td>\n      <td>False</td>\n      <td>True</td>\n      <td>False</td>\n      <td>True</td>\n      <td>True</td>\n      <td>True</td>\n      <td>False</td>\n      <td>1.2</td>\n      <td>100.0</td>\n      <td>19.0</td>\n      <td>3.1</td>\n      <td>42.0</td>\n      <td>True</td>\n      <td>die</td>\n    </tr>\n  </tbody>\n</table>\n<p>145 rows × 20 columns</p>\n</div>"
     },
     "metadata": {},
     "output_type": "display_data"
    }
   ],
   "source": [
    "data_3 = data.dropna(axis=0, subset=['liver_big'])\n",
    "display(data_3)"
   ]
  },
  {
   "cell_type": "markdown",
   "metadata": {},
   "source": [
    "Now we can check whether there are still missing values for the column `liver_big`."
   ]
  },
  {
   "cell_type": "code",
   "execution_count": null,
   "metadata": {},
   "outputs": [],
   "source": []
  },
  {
   "cell_type": "markdown",
   "metadata": {},
   "source": [
    "Another alternative involves the dropping of columns where a certain percentage of not-null values is available. This can be achieved through the `thresh` parameter. In the following example we keep only columns where there are at least the 80% of not null values."
   ]
  },
  {
   "cell_type": "code",
   "execution_count": 19,
   "metadata": {},
   "outputs": [
    {
     "data": {
      "text/plain": "0"
     },
     "execution_count": 19,
     "metadata": {},
     "output_type": "execute_result"
    }
   ],
   "source": [
    "data_3['liver_big'].isna().sum()"
   ]
  },
  {
   "cell_type": "markdown",
   "metadata": {},
   "source": [
    "## Replace missing values\n",
    "A good strategy when dealing with missing values involves their replacement with another value. Usually, the following strategies are adopted:\n",
    "* for numerical values replace the missing value with the average value of the column\n",
    "* for categorial values replace the missing value with the most frequent value of the column \n",
    "* use other functions\n",
    "\n",
    "In order to replace missing values, three functions can be used: `fillna()`, `replace()` and `interpolate()`.\n",
    "The `fillna()` function replaces all the NaN values with the value passed as argument.\n",
    "For example, for numerical values, all the NaN values in the numeric columns could be replaced with the average value. \n",
    "In order to list the type of a column, we can use the attribute `dtypes` as follows:"
   ]
  },
  {
   "cell_type": "code",
   "execution_count": null,
   "metadata": {},
   "outputs": [],
   "source": []
  },
  {
   "cell_type": "markdown",
   "metadata": {},
   "source": [
    "## Numeric columns\n",
    "Firstly, we select numeric columns."
   ]
  },
  {
   "cell_type": "code",
   "execution_count": 33,
   "metadata": {},
   "outputs": [
    {
     "data": {
      "text/plain": "   age  bilirubin  alk_phosphate   sgot  albumin  protime\n0   30        1.0           85.0   18.0      4.0      NaN\n1   50        0.9          135.0   42.0      3.5      NaN\n2   78        0.7           96.0   32.0      4.0      NaN\n3   31        0.7           46.0   52.0      4.0     80.0\n4   34        1.0            NaN  200.0      4.0      NaN",
      "text/html": "<div>\n<style scoped>\n    .dataframe tbody tr th:only-of-type {\n        vertical-align: middle;\n    }\n\n    .dataframe tbody tr th {\n        vertical-align: top;\n    }\n\n    .dataframe thead th {\n        text-align: right;\n    }\n</style>\n<table border=\"1\" class=\"dataframe\">\n  <thead>\n    <tr style=\"text-align: right;\">\n      <th></th>\n      <th>age</th>\n      <th>bilirubin</th>\n      <th>alk_phosphate</th>\n      <th>sgot</th>\n      <th>albumin</th>\n      <th>protime</th>\n    </tr>\n  </thead>\n  <tbody>\n    <tr>\n      <th>0</th>\n      <td>30</td>\n      <td>1.0</td>\n      <td>85.0</td>\n      <td>18.0</td>\n      <td>4.0</td>\n      <td>NaN</td>\n    </tr>\n    <tr>\n      <th>1</th>\n      <td>50</td>\n      <td>0.9</td>\n      <td>135.0</td>\n      <td>42.0</td>\n      <td>3.5</td>\n      <td>NaN</td>\n    </tr>\n    <tr>\n      <th>2</th>\n      <td>78</td>\n      <td>0.7</td>\n      <td>96.0</td>\n      <td>32.0</td>\n      <td>4.0</td>\n      <td>NaN</td>\n    </tr>\n    <tr>\n      <th>3</th>\n      <td>31</td>\n      <td>0.7</td>\n      <td>46.0</td>\n      <td>52.0</td>\n      <td>4.0</td>\n      <td>80.0</td>\n    </tr>\n    <tr>\n      <th>4</th>\n      <td>34</td>\n      <td>1.0</td>\n      <td>NaN</td>\n      <td>200.0</td>\n      <td>4.0</td>\n      <td>NaN</td>\n    </tr>\n  </tbody>\n</table>\n</div>"
     },
     "execution_count": 33,
     "metadata": {},
     "output_type": "execute_result"
    }
   ],
   "source": [
    "numeric_data = data.select_dtypes(include=['int64', 'float64'])\n",
    "numeric_data.head()"
   ]
  },
  {
   "cell_type": "markdown",
   "metadata": {},
   "source": [
    "Now, we can check whether the NaN values in numeric columns have been removed."
   ]
  },
  {
   "cell_type": "code",
   "execution_count": 22,
   "metadata": {},
   "outputs": [
    {
     "data": {
      "text/plain": "age               0\nbilirubin         6\nalk_phosphate    29\nsgot              4\nalbumin          16\nprotime          67\ndtype: int64"
     },
     "execution_count": 22,
     "metadata": {},
     "output_type": "execute_result"
    }
   ],
   "source": [
    "numeric_data.isna().sum()"
   ]
  },
  {
   "cell_type": "markdown",
   "metadata": {},
   "source": [
    "## Categorial columns\n",
    "We note that in `dtypes` the categorial columns are described as objects. Thus we can select the `object` columns. We would like to consider only boolean columns. However the `object` type includes also the column `class`, which is a string. We select all the object columns, and then we remove from them the column `class`. Then we can convert the type of the result to `bool`."
   ]
  },
  {
   "cell_type": "code",
   "execution_count": 47,
   "metadata": {},
   "outputs": [
    {
     "data": {
      "text/plain": "  steroid fatigue malaise anorexia liver_big liver_firm spleen_palpable  \\\n0   False   False   False    False     False      False           False   \n1   False    True   False    False     False      False           False   \n2    True    True   False    False      True      False           False   \n3     NaN   False   False    False      True      False           False   \n4    True   False   False    False      True      False           False   \n\n  spiders ascites varices  \n0   False   False   False  \n1   False   False   False  \n2   False   False   False  \n3   False   False   False  \n4   False   False   False  ",
      "text/html": "<div>\n<style scoped>\n    .dataframe tbody tr th:only-of-type {\n        vertical-align: middle;\n    }\n\n    .dataframe tbody tr th {\n        vertical-align: top;\n    }\n\n    .dataframe thead th {\n        text-align: right;\n    }\n</style>\n<table border=\"1\" class=\"dataframe\">\n  <thead>\n    <tr style=\"text-align: right;\">\n      <th></th>\n      <th>steroid</th>\n      <th>fatigue</th>\n      <th>malaise</th>\n      <th>anorexia</th>\n      <th>liver_big</th>\n      <th>liver_firm</th>\n      <th>spleen_palpable</th>\n      <th>spiders</th>\n      <th>ascites</th>\n      <th>varices</th>\n    </tr>\n  </thead>\n  <tbody>\n    <tr>\n      <th>0</th>\n      <td>False</td>\n      <td>False</td>\n      <td>False</td>\n      <td>False</td>\n      <td>False</td>\n      <td>False</td>\n      <td>False</td>\n      <td>False</td>\n      <td>False</td>\n      <td>False</td>\n    </tr>\n    <tr>\n      <th>1</th>\n      <td>False</td>\n      <td>True</td>\n      <td>False</td>\n      <td>False</td>\n      <td>False</td>\n      <td>False</td>\n      <td>False</td>\n      <td>False</td>\n      <td>False</td>\n      <td>False</td>\n    </tr>\n    <tr>\n      <th>2</th>\n      <td>True</td>\n      <td>True</td>\n      <td>False</td>\n      <td>False</td>\n      <td>True</td>\n      <td>False</td>\n      <td>False</td>\n      <td>False</td>\n      <td>False</td>\n      <td>False</td>\n    </tr>\n    <tr>\n      <th>3</th>\n      <td>NaN</td>\n      <td>False</td>\n      <td>False</td>\n      <td>False</td>\n      <td>True</td>\n      <td>False</td>\n      <td>False</td>\n      <td>False</td>\n      <td>False</td>\n      <td>False</td>\n    </tr>\n    <tr>\n      <th>4</th>\n      <td>True</td>\n      <td>False</td>\n      <td>False</td>\n      <td>False</td>\n      <td>True</td>\n      <td>False</td>\n      <td>False</td>\n      <td>False</td>\n      <td>False</td>\n      <td>False</td>\n    </tr>\n  </tbody>\n</table>\n</div>"
     },
     "execution_count": 47,
     "metadata": {},
     "output_type": "execute_result"
    }
   ],
   "source": [
    "non_numeric_data = data.select_dtypes(include=['object'])\n",
    "str_columns = [column for column in non_numeric_data.columns if type(non_numeric_data[column].iloc[0]) is str]\n",
    "non_numeric_data.drop(labels=str_columns, inplace=True, axis=1)\n",
    "non_numeric_data.head()"
   ]
  },
  {
   "cell_type": "markdown",
   "metadata": {},
   "source": [
    "Now we can replace all the missing values for booleans with the most frequent value. We can use the `mode()` function to calculate the most frequent value. We use the `fillna()` function to replace missing values, but we could use also the `replace(old_value,new_value)` function."
   ]
  },
  {
   "cell_type": "code",
   "execution_count": 50,
   "metadata": {},
   "outputs": [
    {
     "data": {
      "text/plain": "   steroid  fatigue  malaise  anorexia  liver_big  liver_firm  \\\n0    False    False    False     False      False       False   \n1    False     True    False     False      False       False   \n2     True     True    False     False       True       False   \n3     True    False    False     False       True       False   \n4     True    False    False     False       True       False   \n\n   spleen_palpable  spiders  ascites  varices  \n0            False    False    False    False  \n1            False    False    False    False  \n2            False    False    False    False  \n3            False    False    False    False  \n4            False    False    False    False  ",
      "text/html": "<div>\n<style scoped>\n    .dataframe tbody tr th:only-of-type {\n        vertical-align: middle;\n    }\n\n    .dataframe tbody tr th {\n        vertical-align: top;\n    }\n\n    .dataframe thead th {\n        text-align: right;\n    }\n</style>\n<table border=\"1\" class=\"dataframe\">\n  <thead>\n    <tr style=\"text-align: right;\">\n      <th></th>\n      <th>steroid</th>\n      <th>fatigue</th>\n      <th>malaise</th>\n      <th>anorexia</th>\n      <th>liver_big</th>\n      <th>liver_firm</th>\n      <th>spleen_palpable</th>\n      <th>spiders</th>\n      <th>ascites</th>\n      <th>varices</th>\n    </tr>\n  </thead>\n  <tbody>\n    <tr>\n      <th>0</th>\n      <td>False</td>\n      <td>False</td>\n      <td>False</td>\n      <td>False</td>\n      <td>False</td>\n      <td>False</td>\n      <td>False</td>\n      <td>False</td>\n      <td>False</td>\n      <td>False</td>\n    </tr>\n    <tr>\n      <th>1</th>\n      <td>False</td>\n      <td>True</td>\n      <td>False</td>\n      <td>False</td>\n      <td>False</td>\n      <td>False</td>\n      <td>False</td>\n      <td>False</td>\n      <td>False</td>\n      <td>False</td>\n    </tr>\n    <tr>\n      <th>2</th>\n      <td>True</td>\n      <td>True</td>\n      <td>False</td>\n      <td>False</td>\n      <td>True</td>\n      <td>False</td>\n      <td>False</td>\n      <td>False</td>\n      <td>False</td>\n      <td>False</td>\n    </tr>\n    <tr>\n      <th>3</th>\n      <td>True</td>\n      <td>False</td>\n      <td>False</td>\n      <td>False</td>\n      <td>True</td>\n      <td>False</td>\n      <td>False</td>\n      <td>False</td>\n      <td>False</td>\n      <td>False</td>\n    </tr>\n    <tr>\n      <th>4</th>\n      <td>True</td>\n      <td>False</td>\n      <td>False</td>\n      <td>False</td>\n      <td>True</td>\n      <td>False</td>\n      <td>False</td>\n      <td>False</td>\n      <td>False</td>\n      <td>False</td>\n    </tr>\n  </tbody>\n</table>\n</div>"
     },
     "execution_count": 50,
     "metadata": {},
     "output_type": "execute_result"
    }
   ],
   "source": [
    "import numpy as np\n",
    "\n",
    "non_numeric_data.apply(lambda x: x.replace(np.nan, x.mode().item(), inplace=True))\n",
    "non_numeric_data.head()"
   ]
  },
  {
   "cell_type": "markdown",
   "metadata": {},
   "source": [
    "Now our dataset does not contain any missing value."
   ]
  },
  {
   "cell_type": "code",
   "execution_count": 52,
   "metadata": {},
   "outputs": [
    {
     "data": {
      "text/plain": "0"
     },
     "execution_count": 52,
     "metadata": {},
     "output_type": "execute_result"
    }
   ],
   "source": [
    "non_numeric_data.isna().sum().sum()"
   ]
  }
 ],
 "metadata": {
  "kernelspec": {
   "display_name": "Python 3 (ipykernel)",
   "language": "python",
   "name": "python3"
  },
  "language_info": {
   "codemirror_mode": {
    "name": "ipython",
    "version": 3
   },
   "file_extension": ".py",
   "mimetype": "text/x-python",
   "name": "python",
   "nbconvert_exporter": "python",
   "pygments_lexer": "ipython3",
   "version": "3.9.7"
  }
 },
 "nbformat": 4,
 "nbformat_minor": 4
}